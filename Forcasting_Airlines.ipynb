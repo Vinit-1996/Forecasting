{
  "nbformat": 4,
  "nbformat_minor": 0,
  "metadata": {
    "colab": {
      "name": "Forcasting_Airlines.ipynb",
      "provenance": []
    },
    "kernelspec": {
      "name": "python3",
      "display_name": "Python 3"
    },
    "language_info": {
      "name": "python"
    }
  },
  "cells": [
    {
      "cell_type": "markdown",
      "metadata": {
        "id": "384qgYmO28-w"
      },
      "source": [
        "Forecast Airlines Passengers data set. Prepare a document for each model explaining \n",
        "how many dummy variables you have created and RMSE value for each model. Finally which model you will use for \n",
        "Forecasting.\n"
      ]
    },
    {
      "cell_type": "code",
      "metadata": {
        "id": "nrOWAqaN3ATg"
      },
      "source": [
        "import numpy as np\n",
        "import pandas as pd\n",
        "import matplotlib.pyplot as plt\n",
        "import seaborn as sns\n",
        "import warnings\n",
        "from statsmodels.tsa.seasonal import seasonal_decompose\n",
        "from statsmodels.tsa.arima_model import ARIMA\n",
        "from statsmodels.tsa.holtwinters import SimpleExpSmoothing\n",
        "from statsmodels.tsa.holtwinters import Holt\n",
        "from statsmodels.tsa.holtwinters import ExponentialSmoothing\n",
        "import statsmodels.formula.api as smf\n",
        "from sklearn.metrics import mean_squared_error\n",
        "import statsmodels.graphics.tsaplots as tsa_plots\n",
        "warnings.filterwarnings(\"ignore\")"
      ],
      "execution_count": 3,
      "outputs": []
    },
    {
      "cell_type": "code",
      "metadata": {
        "colab": {
          "base_uri": "https://localhost:8080/",
          "height": 204
        },
        "id": "HaZbMDk83L1k",
        "outputId": "1a287fb7-e677-46cd-ffbb-e6a8a920dde7"
      },
      "source": [
        " df=pd.read_excel(\"/content/Airlines+Data.xlsx\")\n",
        " df.head()"
      ],
      "execution_count": 5,
      "outputs": [
        {
          "output_type": "execute_result",
          "data": {
            "text/html": [
              "<div>\n",
              "<style scoped>\n",
              "    .dataframe tbody tr th:only-of-type {\n",
              "        vertical-align: middle;\n",
              "    }\n",
              "\n",
              "    .dataframe tbody tr th {\n",
              "        vertical-align: top;\n",
              "    }\n",
              "\n",
              "    .dataframe thead th {\n",
              "        text-align: right;\n",
              "    }\n",
              "</style>\n",
              "<table border=\"1\" class=\"dataframe\">\n",
              "  <thead>\n",
              "    <tr style=\"text-align: right;\">\n",
              "      <th></th>\n",
              "      <th>Month</th>\n",
              "      <th>Passengers</th>\n",
              "    </tr>\n",
              "  </thead>\n",
              "  <tbody>\n",
              "    <tr>\n",
              "      <th>0</th>\n",
              "      <td>1995-01-01</td>\n",
              "      <td>112</td>\n",
              "    </tr>\n",
              "    <tr>\n",
              "      <th>1</th>\n",
              "      <td>1995-02-01</td>\n",
              "      <td>118</td>\n",
              "    </tr>\n",
              "    <tr>\n",
              "      <th>2</th>\n",
              "      <td>1995-03-01</td>\n",
              "      <td>132</td>\n",
              "    </tr>\n",
              "    <tr>\n",
              "      <th>3</th>\n",
              "      <td>1995-04-01</td>\n",
              "      <td>129</td>\n",
              "    </tr>\n",
              "    <tr>\n",
              "      <th>4</th>\n",
              "      <td>1995-05-01</td>\n",
              "      <td>121</td>\n",
              "    </tr>\n",
              "  </tbody>\n",
              "</table>\n",
              "</div>"
            ],
            "text/plain": [
              "       Month  Passengers\n",
              "0 1995-01-01         112\n",
              "1 1995-02-01         118\n",
              "2 1995-03-01         132\n",
              "3 1995-04-01         129\n",
              "4 1995-05-01         121"
            ]
          },
          "metadata": {},
          "execution_count": 5
        }
      ]
    },
    {
      "cell_type": "code",
      "metadata": {
        "id": "oVOQlI7p8WOY"
      },
      "source": [
        "df.set_index([\"Month\"],drop=True,inplace=True)"
      ],
      "execution_count": 6,
      "outputs": []
    },
    {
      "cell_type": "code",
      "metadata": {
        "colab": {
          "base_uri": "https://localhost:8080/",
          "height": 235
        },
        "id": "khu_picF87xC",
        "outputId": "86d9b67e-1ef5-4938-e53c-f6c2a2f80652"
      },
      "source": [
        "df.head()"
      ],
      "execution_count": 7,
      "outputs": [
        {
          "output_type": "execute_result",
          "data": {
            "text/html": [
              "<div>\n",
              "<style scoped>\n",
              "    .dataframe tbody tr th:only-of-type {\n",
              "        vertical-align: middle;\n",
              "    }\n",
              "\n",
              "    .dataframe tbody tr th {\n",
              "        vertical-align: top;\n",
              "    }\n",
              "\n",
              "    .dataframe thead th {\n",
              "        text-align: right;\n",
              "    }\n",
              "</style>\n",
              "<table border=\"1\" class=\"dataframe\">\n",
              "  <thead>\n",
              "    <tr style=\"text-align: right;\">\n",
              "      <th></th>\n",
              "      <th>Passengers</th>\n",
              "    </tr>\n",
              "    <tr>\n",
              "      <th>Month</th>\n",
              "      <th></th>\n",
              "    </tr>\n",
              "  </thead>\n",
              "  <tbody>\n",
              "    <tr>\n",
              "      <th>1995-01-01</th>\n",
              "      <td>112</td>\n",
              "    </tr>\n",
              "    <tr>\n",
              "      <th>1995-02-01</th>\n",
              "      <td>118</td>\n",
              "    </tr>\n",
              "    <tr>\n",
              "      <th>1995-03-01</th>\n",
              "      <td>132</td>\n",
              "    </tr>\n",
              "    <tr>\n",
              "      <th>1995-04-01</th>\n",
              "      <td>129</td>\n",
              "    </tr>\n",
              "    <tr>\n",
              "      <th>1995-05-01</th>\n",
              "      <td>121</td>\n",
              "    </tr>\n",
              "  </tbody>\n",
              "</table>\n",
              "</div>"
            ],
            "text/plain": [
              "            Passengers\n",
              "Month                 \n",
              "1995-01-01         112\n",
              "1995-02-01         118\n",
              "1995-03-01         132\n",
              "1995-04-01         129\n",
              "1995-05-01         121"
            ]
          },
          "metadata": {},
          "execution_count": 7
        }
      ]
    },
    {
      "cell_type": "code",
      "metadata": {
        "colab": {
          "base_uri": "https://localhost:8080/"
        },
        "id": "mh5TP9mK8-JC",
        "outputId": "306351fc-e70b-4d72-ef29-e1af883fb0f6"
      },
      "source": [
        "df.isnull().sum()"
      ],
      "execution_count": 8,
      "outputs": [
        {
          "output_type": "execute_result",
          "data": {
            "text/plain": [
              "Passengers    0\n",
              "dtype: int64"
            ]
          },
          "metadata": {},
          "execution_count": 8
        }
      ]
    },
    {
      "cell_type": "code",
      "metadata": {
        "colab": {
          "base_uri": "https://localhost:8080/"
        },
        "id": "WHtD3Yb59C_M",
        "outputId": "8e88bb5e-6d76-4022-b500-527dfb7be5d0"
      },
      "source": [
        "df.duplicated().sum()"
      ],
      "execution_count": 9,
      "outputs": [
        {
          "output_type": "execute_result",
          "data": {
            "text/plain": [
              "16"
            ]
          },
          "metadata": {},
          "execution_count": 9
        }
      ]
    },
    {
      "cell_type": "code",
      "metadata": {
        "colab": {
          "base_uri": "https://localhost:8080/"
        },
        "id": "nrERnu899HaT",
        "outputId": "1897f95e-c637-49a6-933f-60d90cb78e26"
      },
      "source": [
        "df.shape"
      ],
      "execution_count": 10,
      "outputs": [
        {
          "output_type": "execute_result",
          "data": {
            "text/plain": [
              "(96, 1)"
            ]
          },
          "metadata": {},
          "execution_count": 10
        }
      ]
    },
    {
      "cell_type": "code",
      "metadata": {
        "colab": {
          "base_uri": "https://localhost:8080/"
        },
        "id": "4aJjVpIh9Lpv",
        "outputId": "964949de-ce14-4217-d032-44cc408127f6"
      },
      "source": [
        "df.dtypes"
      ],
      "execution_count": 11,
      "outputs": [
        {
          "output_type": "execute_result",
          "data": {
            "text/plain": [
              "Passengers    int64\n",
              "dtype: object"
            ]
          },
          "metadata": {},
          "execution_count": 11
        }
      ]
    },
    {
      "cell_type": "code",
      "metadata": {
        "id": "hrERbwQm9UGa"
      },
      "source": [
        "df.reset_index(inplace=True)"
      ],
      "execution_count": 12,
      "outputs": []
    },
    {
      "cell_type": "code",
      "metadata": {
        "colab": {
          "base_uri": "https://localhost:8080/",
          "height": 204
        },
        "id": "HK0FOTAK9vUh",
        "outputId": "c67722b0-fc56-4136-96f7-2c2ca7882b3b"
      },
      "source": [
        "df.head()"
      ],
      "execution_count": 13,
      "outputs": [
        {
          "output_type": "execute_result",
          "data": {
            "text/html": [
              "<div>\n",
              "<style scoped>\n",
              "    .dataframe tbody tr th:only-of-type {\n",
              "        vertical-align: middle;\n",
              "    }\n",
              "\n",
              "    .dataframe tbody tr th {\n",
              "        vertical-align: top;\n",
              "    }\n",
              "\n",
              "    .dataframe thead th {\n",
              "        text-align: right;\n",
              "    }\n",
              "</style>\n",
              "<table border=\"1\" class=\"dataframe\">\n",
              "  <thead>\n",
              "    <tr style=\"text-align: right;\">\n",
              "      <th></th>\n",
              "      <th>Month</th>\n",
              "      <th>Passengers</th>\n",
              "    </tr>\n",
              "  </thead>\n",
              "  <tbody>\n",
              "    <tr>\n",
              "      <th>0</th>\n",
              "      <td>1995-01-01</td>\n",
              "      <td>112</td>\n",
              "    </tr>\n",
              "    <tr>\n",
              "      <th>1</th>\n",
              "      <td>1995-02-01</td>\n",
              "      <td>118</td>\n",
              "    </tr>\n",
              "    <tr>\n",
              "      <th>2</th>\n",
              "      <td>1995-03-01</td>\n",
              "      <td>132</td>\n",
              "    </tr>\n",
              "    <tr>\n",
              "      <th>3</th>\n",
              "      <td>1995-04-01</td>\n",
              "      <td>129</td>\n",
              "    </tr>\n",
              "    <tr>\n",
              "      <th>4</th>\n",
              "      <td>1995-05-01</td>\n",
              "      <td>121</td>\n",
              "    </tr>\n",
              "  </tbody>\n",
              "</table>\n",
              "</div>"
            ],
            "text/plain": [
              "       Month  Passengers\n",
              "0 1995-01-01         112\n",
              "1 1995-02-01         118\n",
              "2 1995-03-01         132\n",
              "3 1995-04-01         129\n",
              "4 1995-05-01         121"
            ]
          },
          "metadata": {},
          "execution_count": 13
        }
      ]
    },
    {
      "cell_type": "code",
      "metadata": {
        "id": "LqmajJep9xQF"
      },
      "source": [
        "df.Month=pd.to_datetime(df.Month)"
      ],
      "execution_count": 14,
      "outputs": []
    },
    {
      "cell_type": "code",
      "metadata": {
        "colab": {
          "base_uri": "https://localhost:8080/"
        },
        "id": "pCYAM7qA-FTK",
        "outputId": "1b991c64-d698-4d54-b4fd-91949ab792bd"
      },
      "source": [
        "df.dtypes"
      ],
      "execution_count": 15,
      "outputs": [
        {
          "output_type": "execute_result",
          "data": {
            "text/plain": [
              "Month         datetime64[ns]\n",
              "Passengers             int64\n",
              "dtype: object"
            ]
          },
          "metadata": {},
          "execution_count": 15
        }
      ]
    },
    {
      "cell_type": "code",
      "metadata": {
        "id": "epU6rKff-HOa"
      },
      "source": [
        "df.set_index([\"Month\"],drop=True,inplace=True)"
      ],
      "execution_count": 16,
      "outputs": []
    },
    {
      "cell_type": "code",
      "metadata": {
        "colab": {
          "base_uri": "https://localhost:8080/",
          "height": 388
        },
        "id": "6DUS2HFt-OPb",
        "outputId": "7ac2a1de-52ae-46e8-da85-935242c595ca"
      },
      "source": [
        "df['Passengers'].plot(figsize=(15, 6))\n",
        "plt.show()"
      ],
      "execution_count": 18,
      "outputs": [
        {
          "output_type": "display_data",
          "data": {
            "image/png": "[encoded data removed]",
            "text/plain": [
              "<Figure size 1080x432 with 1 Axes>"
            ]
          },
          "metadata": {
            "needs_background": "light"
          }
        }
      ]
    },
    {
      "cell_type": "code",
      "metadata": {
        "colab": {
          "base_uri": "https://localhost:8080/",
          "height": 279
        },
        "id": "qITS3DQx-T6i",
        "outputId": "363dccfd-69c2-4815-da6f-5e237ec10a36"
      },
      "source": [
        "for i in range(2,10,2):\n",
        "    df['Passengers'].rolling(i).mean().plot(label=str(i))\n",
        "plt.legend(loc=3)\n",
        "plt.show()"
      ],
      "execution_count": 20,
      "outputs": [
        {
          "output_type": "display_data",
          "data": {
            "image/png": "[encoded data removed]",
            "text/plain": [
              "<Figure size 432x288 with 1 Axes>"
            ]
          },
          "metadata": {
            "needs_background": "light"
          }
        }
      ]
    },
    {
      "cell_type": "code",
      "metadata": {
        "colab": {
          "base_uri": "https://localhost:8080/",
          "height": 297
        },
        "id": "SBM6is9f-hma",
        "outputId": "522d934c-9f93-4fab-cfc6-a744e0146917"
      },
      "source": [
        "ts_add = seasonal_decompose(df['Passengers'],model=\"additive\")\n",
        "fig = ts_add.plot()\n",
        "plt.show()"
      ],
      "execution_count": 21,
      "outputs": [
        {
          "output_type": "display_data",
          "data": {
            "image/png": "[encoded data removed]",
            "text/plain": [
              "<Figure size 432x288 with 4 Axes>"
            ]
          },
          "metadata": {
            "needs_background": "light"
          }
        }
      ]
    },
    {
      "cell_type": "code",
      "metadata": {
        "colab": {
          "base_uri": "https://localhost:8080/",
          "height": 298
        },
        "id": "IFobEHYp-pVy",
        "outputId": "bd13cc8c-0dc1-42a3-eaa9-8205c7f2acfc"
      },
      "source": [
        "ts_mul = seasonal_decompose(df.Passengers,model=\"multiplicative\")\n",
        "fig = ts_mul.plot()\n",
        "plt.show()"
      ],
      "execution_count": 22,
      "outputs": [
        {
          "output_type": "display_data",
          "data": {
            "image/png": "[encoded data removed]",
            "text/plain": [
              "<Figure size 432x288 with 4 Axes>"
            ]
          },
          "metadata": {
            "needs_background": "light"
          }
        }
      ]
    },
    {
      "cell_type": "code",
      "metadata": {
        "colab": {
          "base_uri": "https://localhost:8080/",
          "height": 545
        },
        "id": "yPmNggHe-t9K",
        "outputId": "42a23b41-c311-4cab-d80d-6507852c699d"
      },
      "source": [
        "tsa_plots.plot_acf(df['Passengers'])"
      ],
      "execution_count": 24,
      "outputs": [
        {
          "output_type": "execute_result",
          "data": {
            "image/png": "[encoded data removed]",
            "text/plain": [
              "<Figure size 432x288 with 1 Axes>"
            ]
          },
          "metadata": {},
          "execution_count": 24
        },
        {
          "output_type": "display_data",
          "data": {
            "image/png": "[encoded data removed]",
            "text/plain": [
              "<Figure size 432x288 with 1 Axes>"
            ]
          },
          "metadata": {
            "needs_background": "light"
          }
        }
      ]
    },
    {
      "cell_type": "markdown",
      "metadata": {
        "id": "BjdzNj4R-6vo"
      },
      "source": [
        "## ARIMA"
      ]
    },
    {
      "cell_type": "code",
      "metadata": {
        "id": "Tk6OzDtV-ycL"
      },
      "source": [
        "X=df.Passengers.values"
      ],
      "execution_count": 26,
      "outputs": []
    },
    {
      "cell_type": "code",
      "metadata": {
        "id": "kD6BM90A_E8i"
      },
      "source": [
        "size = int(len(X) * 0.66)"
      ],
      "execution_count": 27,
      "outputs": []
    },
    {
      "cell_type": "code",
      "metadata": {
        "id": "iSpTA3O1_Yla"
      },
      "source": [
        "train, test = X[0:size], X[size:len(X)]"
      ],
      "execution_count": 28,
      "outputs": []
    },
    {
      "cell_type": "code",
      "metadata": {
        "id": "hCMBHZ1B_dwp"
      },
      "source": [
        "model = ARIMA(train, order=(5,1,0))"
      ],
      "execution_count": 29,
      "outputs": []
    },
    {
      "cell_type": "code",
      "metadata": {
        "id": "v_pwqk77_gwD"
      },
      "source": [
        "model_fit = model.fit(disp=0)"
      ],
      "execution_count": 30,
      "outputs": []
    },
    {
      "cell_type": "code",
      "metadata": {
        "colab": {
          "base_uri": "https://localhost:8080/"
        },
        "id": "qjzI-8d__jdc",
        "outputId": "ca86829e-5599-46e2-f200-52499f7d2879"
      },
      "source": [
        "print(model_fit.summary())"
      ],
      "execution_count": 32,
      "outputs": [
        {
          "output_type": "stream",
          "name": "stdout",
          "text": [
            "                             ARIMA Model Results                              \n",
            "==============================================================================\n",
            "Dep. Variable:                    D.y   No. Observations:                   62\n",
            "Model:                 ARIMA(5, 1, 0)   Log Likelihood                -262.909\n",
            "Method:                       css-mle   S.D. of innovations             16.748\n",
            "Date:                Sat, 16 Oct 2021   AIC                            539.817\n",
            "Time:                        16:45:00   BIC                            554.707\n",
            "Sample:                             1   HQIC                           545.663\n",
            "                                                                              \n",
            "==============================================================================\n",
            "                 coef    std err          z      P>|z|      [0.025      0.975]\n",
            "------------------------------------------------------------------------------\n",
            "const          1.7497      1.477      1.185      0.241      -1.145       4.644\n",
            "ar.L1.D.y      0.0905      0.134      0.677      0.501      -0.171       0.352\n",
            "ar.L2.D.y     -0.2096      0.135     -1.549      0.127      -0.475       0.056\n",
            "ar.L3.D.y     -0.0829      0.133     -0.623      0.536      -0.344       0.178\n",
            "ar.L4.D.y     -0.2598      0.133     -1.953      0.056      -0.521       0.001\n",
            "ar.L5.D.y     -0.0090      0.139     -0.065      0.949      -0.282       0.264\n",
            "                                    Roots                                    \n",
            "=============================================================================\n",
            "                  Real          Imaginary           Modulus         Frequency\n",
            "-----------------------------------------------------------------------------\n",
            "AR.1            0.8182           -1.0121j            1.3015           -0.1418\n",
            "AR.2            0.8182           +1.0121j            1.3015            0.1418\n",
            "AR.3           -0.9648           -1.1683j            1.5152           -0.3599\n",
            "AR.4           -0.9648           +1.1683j            1.5152            0.3599\n",
            "AR.5          -28.5039           -0.0000j           28.5039           -0.5000\n",
            "-----------------------------------------------------------------------------\n"
          ]
        }
      ]
    },
    {
      "cell_type": "code",
      "metadata": {
        "id": "DBUCB_NY_lyy"
      },
      "source": [
        "residuals = pd.DataFrame(model_fit.resid)"
      ],
      "execution_count": 33,
      "outputs": []
    },
    {
      "cell_type": "code",
      "metadata": {
        "colab": {
          "base_uri": "https://localhost:8080/"
        },
        "id": "7xivzLPj_uiC",
        "outputId": "970fbbd6-ec8d-4d22-f0db-109c7b26faef"
      },
      "source": [
        "print(residuals.describe())"
      ],
      "execution_count": 34,
      "outputs": [
        {
          "output_type": "stream",
          "name": "stdout",
          "text": [
            "               0\n",
            "count  62.000000\n",
            "mean    0.057354\n",
            "std    16.895802\n",
            "min   -34.303295\n",
            "25%   -12.610649\n",
            "50%    -1.589477\n",
            "75%    12.565606\n",
            "max    39.955360\n"
          ]
        }
      ]
    },
    {
      "cell_type": "markdown",
      "metadata": {
        "id": "kUUu33h5_8D3"
      },
      "source": [
        "## Rolling Forecast ARIMA Model"
      ]
    },
    {
      "cell_type": "code",
      "metadata": {
        "id": "Qbh1T82K_xQG"
      },
      "source": [
        "history = [x for x in train]"
      ],
      "execution_count": 35,
      "outputs": []
    },
    {
      "cell_type": "code",
      "metadata": {
        "id": "QUZcQj9j__W6"
      },
      "source": [
        "predictions = []"
      ],
      "execution_count": 36,
      "outputs": []
    },
    {
      "cell_type": "code",
      "metadata": {
        "colab": {
          "base_uri": "https://localhost:8080/"
        },
        "id": "Y4gWwdYdACjT",
        "outputId": "9376b493-1eb4-4694-a4bf-2cd16e44dab9"
      },
      "source": [
        "for i in range(len(test)):\n",
        "\tmodel = ARIMA(history, order=(5,1,0))\n",
        "\tmodel_fit = model.fit(disp=0)\n",
        "\toutput = model_fit.forecast()\n",
        "\tyhat = output[0]\n",
        "\tpredictions.append(yhat)\n",
        "\tobs = test[i]\n",
        "\thistory.append(obs)\n",
        "\tprint('predicted=%f, expected=%f' % (yhat, obs))"
      ],
      "execution_count": 37,
      "outputs": [
        {
          "output_type": "stream",
          "name": "stdout",
          "text": [
            "predicted=239.755196, expected=227.000000\n",
            "predicted=220.737311, expected=234.000000\n",
            "predicted=237.815015, expected=264.000000\n",
            "predicted=252.750575, expected=302.000000\n",
            "predicted=306.715777, expected=293.000000\n",
            "predicted=285.374653, expected=259.000000\n",
            "predicted=250.264011, expected=229.000000\n",
            "predicted=227.093114, expected=203.000000\n",
            "predicted=211.011442, expected=229.000000\n",
            "predicted=253.260277, expected=242.000000\n",
            "predicted=252.490692, expected=233.000000\n",
            "predicted=234.042128, expected=267.000000\n",
            "predicted=268.773634, expected=269.000000\n",
            "predicted=261.782254, expected=270.000000\n",
            "predicted=271.798050, expected=315.000000\n",
            "predicted=314.422119, expected=364.000000\n",
            "predicted=368.637725, expected=347.000000\n",
            "predicted=334.957879, expected=312.000000\n",
            "predicted=301.161832, expected=274.000000\n",
            "predicted=265.936449, expected=237.000000\n",
            "predicted=244.037190, expected=278.000000\n",
            "predicted=312.961772, expected=284.000000\n",
            "predicted=291.748155, expected=277.000000\n",
            "predicted=284.551875, expected=317.000000\n",
            "predicted=316.501215, expected=313.000000\n",
            "predicted=303.218137, expected=318.000000\n",
            "predicted=324.834639, expected=374.000000\n",
            "predicted=373.140684, expected=413.000000\n",
            "predicted=415.007187, expected=405.000000\n",
            "predicted=397.508453, expected=355.000000\n",
            "predicted=332.087122, expected=306.000000\n",
            "predicted=299.452938, expected=271.000000\n",
            "predicted=279.908344, expected=306.000000\n"
          ]
        }
      ]
    },
    {
      "cell_type": "code",
      "metadata": {
        "colab": {
          "base_uri": "https://localhost:8080/"
        },
        "id": "lKc0Bz_ZAGUX",
        "outputId": "8c94c5fa-a62e-4b4f-a169-5ccf8c46abd1"
      },
      "source": [
        "error = mean_squared_error(test, predictions)\n",
        "print('Test MSE: %.3f' % error)"
      ],
      "execution_count": 38,
      "outputs": [
        {
          "output_type": "stream",
          "name": "stdout",
          "text": [
            "Test MSE: 782.495\n"
          ]
        }
      ]
    },
    {
      "cell_type": "markdown",
      "metadata": {
        "id": "eDeVHfTCAOvn"
      },
      "source": [
        "## MULTIPLE MODELS"
      ]
    },
    {
      "cell_type": "code",
      "metadata": {
        "id": "eWUcCRhBAJgC"
      },
      "source": [
        "df1=pd.read_excel(\"/content/Airlines+Data.xlsx\")"
      ],
      "execution_count": 96,
      "outputs": []
    },
    {
      "cell_type": "code",
      "metadata": {
        "colab": {
          "base_uri": "https://localhost:8080/",
          "height": 204
        },
        "id": "JzQ3aaYDBAGa",
        "outputId": "b6e17194-bd91-4360-f8f0-7f4b15acff5d"
      },
      "source": [
        "df1.head()"
      ],
      "execution_count": 97,
      "outputs": [
        {
          "output_type": "execute_result",
          "data": {
            "text/html": [
              "<div>\n",
              "<style scoped>\n",
              "    .dataframe tbody tr th:only-of-type {\n",
              "        vertical-align: middle;\n",
              "    }\n",
              "\n",
              "    .dataframe tbody tr th {\n",
              "        vertical-align: top;\n",
              "    }\n",
              "\n",
              "    .dataframe thead th {\n",
              "        text-align: right;\n",
              "    }\n",
              "</style>\n",
              "<table border=\"1\" class=\"dataframe\">\n",
              "  <thead>\n",
              "    <tr style=\"text-align: right;\">\n",
              "      <th></th>\n",
              "      <th>Month</th>\n",
              "      <th>Passengers</th>\n",
              "    </tr>\n",
              "  </thead>\n",
              "  <tbody>\n",
              "    <tr>\n",
              "      <th>0</th>\n",
              "      <td>1995-01-01</td>\n",
              "      <td>112</td>\n",
              "    </tr>\n",
              "    <tr>\n",
              "      <th>1</th>\n",
              "      <td>1995-02-01</td>\n",
              "      <td>118</td>\n",
              "    </tr>\n",
              "    <tr>\n",
              "      <th>2</th>\n",
              "      <td>1995-03-01</td>\n",
              "      <td>132</td>\n",
              "    </tr>\n",
              "    <tr>\n",
              "      <th>3</th>\n",
              "      <td>1995-04-01</td>\n",
              "      <td>129</td>\n",
              "    </tr>\n",
              "    <tr>\n",
              "      <th>4</th>\n",
              "      <td>1995-05-01</td>\n",
              "      <td>121</td>\n",
              "    </tr>\n",
              "  </tbody>\n",
              "</table>\n",
              "</div>"
            ],
            "text/plain": [
              "       Month  Passengers\n",
              "0 1995-01-01         112\n",
              "1 1995-02-01         118\n",
              "2 1995-03-01         132\n",
              "3 1995-04-01         129\n",
              "4 1995-05-01         121"
            ]
          },
          "metadata": {},
          "execution_count": 97
        }
      ]
    },
    {
      "cell_type": "code",
      "metadata": {
        "id": "Y5kp_xKoFEnq"
      },
      "source": [
        "df1['month'] = pd.DatetimeIndex(df1['Month']).month"
      ],
      "execution_count": 98,
      "outputs": []
    },
    {
      "cell_type": "code",
      "metadata": {
        "colab": {
          "base_uri": "https://localhost:8080/",
          "height": 204
        },
        "id": "c9U5vyVXFRXL",
        "outputId": "c6355079-59a6-489f-c024-e3e9a5a3a278"
      },
      "source": [
        "df1.head()"
      ],
      "execution_count": 99,
      "outputs": [
        {
          "output_type": "execute_result",
          "data": {
            "text/html": [
              "<div>\n",
              "<style scoped>\n",
              "    .dataframe tbody tr th:only-of-type {\n",
              "        vertical-align: middle;\n",
              "    }\n",
              "\n",
              "    .dataframe tbody tr th {\n",
              "        vertical-align: top;\n",
              "    }\n",
              "\n",
              "    .dataframe thead th {\n",
              "        text-align: right;\n",
              "    }\n",
              "</style>\n",
              "<table border=\"1\" class=\"dataframe\">\n",
              "  <thead>\n",
              "    <tr style=\"text-align: right;\">\n",
              "      <th></th>\n",
              "      <th>Month</th>\n",
              "      <th>Passengers</th>\n",
              "      <th>month</th>\n",
              "    </tr>\n",
              "  </thead>\n",
              "  <tbody>\n",
              "    <tr>\n",
              "      <th>0</th>\n",
              "      <td>1995-01-01</td>\n",
              "      <td>112</td>\n",
              "      <td>1</td>\n",
              "    </tr>\n",
              "    <tr>\n",
              "      <th>1</th>\n",
              "      <td>1995-02-01</td>\n",
              "      <td>118</td>\n",
              "      <td>2</td>\n",
              "    </tr>\n",
              "    <tr>\n",
              "      <th>2</th>\n",
              "      <td>1995-03-01</td>\n",
              "      <td>132</td>\n",
              "      <td>3</td>\n",
              "    </tr>\n",
              "    <tr>\n",
              "      <th>3</th>\n",
              "      <td>1995-04-01</td>\n",
              "      <td>129</td>\n",
              "      <td>4</td>\n",
              "    </tr>\n",
              "    <tr>\n",
              "      <th>4</th>\n",
              "      <td>1995-05-01</td>\n",
              "      <td>121</td>\n",
              "      <td>5</td>\n",
              "    </tr>\n",
              "  </tbody>\n",
              "</table>\n",
              "</div>"
            ],
            "text/plain": [
              "       Month  Passengers  month\n",
              "0 1995-01-01         112      1\n",
              "1 1995-02-01         118      2\n",
              "2 1995-03-01         132      3\n",
              "3 1995-04-01         129      4\n",
              "4 1995-05-01         121      5"
            ]
          },
          "metadata": {},
          "execution_count": 99
        }
      ]
    },
    {
      "cell_type": "code",
      "metadata": {
        "id": "t8TCXELsFWry"
      },
      "source": [
        "df1.month=df1.month.apply(lambda x: str(x) + \" Month\")"
      ],
      "execution_count": 101,
      "outputs": []
    },
    {
      "cell_type": "code",
      "metadata": {
        "colab": {
          "base_uri": "https://localhost:8080/",
          "height": 204
        },
        "id": "nUiwyvVfGrNM",
        "outputId": "ad8170e6-8265-4745-88b7-ae853dd6013d"
      },
      "source": [
        "df1.head()"
      ],
      "execution_count": 102,
      "outputs": [
        {
          "output_type": "execute_result",
          "data": {
            "text/html": [
              "<div>\n",
              "<style scoped>\n",
              "    .dataframe tbody tr th:only-of-type {\n",
              "        vertical-align: middle;\n",
              "    }\n",
              "\n",
              "    .dataframe tbody tr th {\n",
              "        vertical-align: top;\n",
              "    }\n",
              "\n",
              "    .dataframe thead th {\n",
              "        text-align: right;\n",
              "    }\n",
              "</style>\n",
              "<table border=\"1\" class=\"dataframe\">\n",
              "  <thead>\n",
              "    <tr style=\"text-align: right;\">\n",
              "      <th></th>\n",
              "      <th>Month</th>\n",
              "      <th>Passengers</th>\n",
              "      <th>month</th>\n",
              "    </tr>\n",
              "  </thead>\n",
              "  <tbody>\n",
              "    <tr>\n",
              "      <th>0</th>\n",
              "      <td>1995-01-01</td>\n",
              "      <td>112</td>\n",
              "      <td>1 Month Month</td>\n",
              "    </tr>\n",
              "    <tr>\n",
              "      <th>1</th>\n",
              "      <td>1995-02-01</td>\n",
              "      <td>118</td>\n",
              "      <td>2 Month Month</td>\n",
              "    </tr>\n",
              "    <tr>\n",
              "      <th>2</th>\n",
              "      <td>1995-03-01</td>\n",
              "      <td>132</td>\n",
              "      <td>3 Month Month</td>\n",
              "    </tr>\n",
              "    <tr>\n",
              "      <th>3</th>\n",
              "      <td>1995-04-01</td>\n",
              "      <td>129</td>\n",
              "      <td>4 Month Month</td>\n",
              "    </tr>\n",
              "    <tr>\n",
              "      <th>4</th>\n",
              "      <td>1995-05-01</td>\n",
              "      <td>121</td>\n",
              "      <td>5 Month Month</td>\n",
              "    </tr>\n",
              "  </tbody>\n",
              "</table>\n",
              "</div>"
            ],
            "text/plain": [
              "       Month  Passengers          month\n",
              "0 1995-01-01         112  1 Month Month\n",
              "1 1995-02-01         118  2 Month Month\n",
              "2 1995-03-01         132  3 Month Month\n",
              "3 1995-04-01         129  4 Month Month\n",
              "4 1995-05-01         121  5 Month Month"
            ]
          },
          "metadata": {},
          "execution_count": 102
        }
      ]
    },
    {
      "cell_type": "code",
      "metadata": {
        "id": "1UEPK_KWHAfb"
      },
      "source": [
        "df1 = pd.get_dummies(df1, columns = ['month'])"
      ],
      "execution_count": 103,
      "outputs": []
    },
    {
      "cell_type": "code",
      "metadata": {
        "id": "ZxULXmQeHOwG"
      },
      "source": [
        "df1.drop(\"Month\",axis=1,inplace=True)"
      ],
      "execution_count": 104,
      "outputs": []
    },
    {
      "cell_type": "code",
      "metadata": {
        "colab": {
          "base_uri": "https://localhost:8080/",
          "height": 453
        },
        "id": "jWToUozHHPt8",
        "outputId": "1d250b0d-521d-4b57-c73a-907e3ba534d5"
      },
      "source": [
        "df1"
      ],
      "execution_count": 105,
      "outputs": [
        {
          "output_type": "execute_result",
          "data": {
            "text/html": [
              "<div>\n",
              "<style scoped>\n",
              "    .dataframe tbody tr th:only-of-type {\n",
              "        vertical-align: middle;\n",
              "    }\n",
              "\n",
              "    .dataframe tbody tr th {\n",
              "        vertical-align: top;\n",
              "    }\n",
              "\n",
              "    .dataframe thead th {\n",
              "        text-align: right;\n",
              "    }\n",
              "</style>\n",
              "<table border=\"1\" class=\"dataframe\">\n",
              "  <thead>\n",
              "    <tr style=\"text-align: right;\">\n",
              "      <th></th>\n",
              "      <th>Passengers</th>\n",
              "      <th>month_1 Month Month</th>\n",
              "      <th>month_10 Month Month</th>\n",
              "      <th>month_11 Month Month</th>\n",
              "      <th>month_12 Month Month</th>\n",
              "      <th>month_2 Month Month</th>\n",
              "      <th>month_3 Month Month</th>\n",
              "      <th>month_4 Month Month</th>\n",
              "      <th>month_5 Month Month</th>\n",
              "      <th>month_6 Month Month</th>\n",
              "      <th>month_7 Month Month</th>\n",
              "      <th>month_8 Month Month</th>\n",
              "      <th>month_9 Month Month</th>\n",
              "    </tr>\n",
              "  </thead>\n",
              "  <tbody>\n",
              "    <tr>\n",
              "      <th>0</th>\n",
              "      <td>112</td>\n",
              "      <td>1</td>\n",
              "      <td>0</td>\n",
              "      <td>0</td>\n",
              "      <td>0</td>\n",
              "      <td>0</td>\n",
              "      <td>0</td>\n",
              "      <td>0</td>\n",
              "      <td>0</td>\n",
              "      <td>0</td>\n",
              "      <td>0</td>\n",
              "      <td>0</td>\n",
              "      <td>0</td>\n",
              "    </tr>\n",
              "    <tr>\n",
              "      <th>1</th>\n",
              "      <td>118</td>\n",
              "      <td>0</td>\n",
              "      <td>0</td>\n",
              "      <td>0</td>\n",
              "      <td>0</td>\n",
              "      <td>1</td>\n",
              "      <td>0</td>\n",
              "      <td>0</td>\n",
              "      <td>0</td>\n",
              "      <td>0</td>\n",
              "      <td>0</td>\n",
              "      <td>0</td>\n",
              "      <td>0</td>\n",
              "    </tr>\n",
              "    <tr>\n",
              "      <th>2</th>\n",
              "      <td>132</td>\n",
              "      <td>0</td>\n",
              "      <td>0</td>\n",
              "      <td>0</td>\n",
              "      <td>0</td>\n",
              "      <td>0</td>\n",
              "      <td>1</td>\n",
              "      <td>0</td>\n",
              "      <td>0</td>\n",
              "      <td>0</td>\n",
              "      <td>0</td>\n",
              "      <td>0</td>\n",
              "      <td>0</td>\n",
              "    </tr>\n",
              "    <tr>\n",
              "      <th>3</th>\n",
              "      <td>129</td>\n",
              "      <td>0</td>\n",
              "      <td>0</td>\n",
              "      <td>0</td>\n",
              "      <td>0</td>\n",
              "      <td>0</td>\n",
              "      <td>0</td>\n",
              "      <td>1</td>\n",
              "      <td>0</td>\n",
              "      <td>0</td>\n",
              "      <td>0</td>\n",
              "      <td>0</td>\n",
              "      <td>0</td>\n",
              "    </tr>\n",
              "    <tr>\n",
              "      <th>4</th>\n",
              "      <td>121</td>\n",
              "      <td>0</td>\n",
              "      <td>0</td>\n",
              "      <td>0</td>\n",
              "      <td>0</td>\n",
              "      <td>0</td>\n",
              "      <td>0</td>\n",
              "      <td>0</td>\n",
              "      <td>1</td>\n",
              "      <td>0</td>\n",
              "      <td>0</td>\n",
              "      <td>0</td>\n",
              "      <td>0</td>\n",
              "    </tr>\n",
              "    <tr>\n",
              "      <th>...</th>\n",
              "      <td>...</td>\n",
              "      <td>...</td>\n",
              "      <td>...</td>\n",
              "      <td>...</td>\n",
              "      <td>...</td>\n",
              "      <td>...</td>\n",
              "      <td>...</td>\n",
              "      <td>...</td>\n",
              "      <td>...</td>\n",
              "      <td>...</td>\n",
              "      <td>...</td>\n",
              "      <td>...</td>\n",
              "      <td>...</td>\n",
              "    </tr>\n",
              "    <tr>\n",
              "      <th>91</th>\n",
              "      <td>405</td>\n",
              "      <td>0</td>\n",
              "      <td>0</td>\n",
              "      <td>0</td>\n",
              "      <td>0</td>\n",
              "      <td>0</td>\n",
              "      <td>0</td>\n",
              "      <td>0</td>\n",
              "      <td>0</td>\n",
              "      <td>0</td>\n",
              "      <td>0</td>\n",
              "      <td>1</td>\n",
              "      <td>0</td>\n",
              "    </tr>\n",
              "    <tr>\n",
              "      <th>92</th>\n",
              "      <td>355</td>\n",
              "      <td>0</td>\n",
              "      <td>0</td>\n",
              "      <td>0</td>\n",
              "      <td>0</td>\n",
              "      <td>0</td>\n",
              "      <td>0</td>\n",
              "      <td>0</td>\n",
              "      <td>0</td>\n",
              "      <td>0</td>\n",
              "      <td>0</td>\n",
              "      <td>0</td>\n",
              "      <td>1</td>\n",
              "    </tr>\n",
              "    <tr>\n",
              "      <th>93</th>\n",
              "      <td>306</td>\n",
              "      <td>0</td>\n",
              "      <td>1</td>\n",
              "      <td>0</td>\n",
              "      <td>0</td>\n",
              "      <td>0</td>\n",
              "      <td>0</td>\n",
              "      <td>0</td>\n",
              "      <td>0</td>\n",
              "      <td>0</td>\n",
              "      <td>0</td>\n",
              "      <td>0</td>\n",
              "      <td>0</td>\n",
              "    </tr>\n",
              "    <tr>\n",
              "      <th>94</th>\n",
              "      <td>271</td>\n",
              "      <td>0</td>\n",
              "      <td>0</td>\n",
              "      <td>1</td>\n",
              "      <td>0</td>\n",
              "      <td>0</td>\n",
              "      <td>0</td>\n",
              "      <td>0</td>\n",
              "      <td>0</td>\n",
              "      <td>0</td>\n",
              "      <td>0</td>\n",
              "      <td>0</td>\n",
              "      <td>0</td>\n",
              "    </tr>\n",
              "    <tr>\n",
              "      <th>95</th>\n",
              "      <td>306</td>\n",
              "      <td>0</td>\n",
              "      <td>0</td>\n",
              "      <td>0</td>\n",
              "      <td>1</td>\n",
              "      <td>0</td>\n",
              "      <td>0</td>\n",
              "      <td>0</td>\n",
              "      <td>0</td>\n",
              "      <td>0</td>\n",
              "      <td>0</td>\n",
              "      <td>0</td>\n",
              "      <td>0</td>\n",
              "    </tr>\n",
              "  </tbody>\n",
              "</table>\n",
              "<p>96 rows × 13 columns</p>\n",
              "</div>"
            ],
            "text/plain": [
              "    Passengers  month_1 Month Month  ...  month_8 Month Month  month_9 Month Month\n",
              "0          112                    1  ...                    0                    0\n",
              "1          118                    0  ...                    0                    0\n",
              "2          132                    0  ...                    0                    0\n",
              "3          129                    0  ...                    0                    0\n",
              "4          121                    0  ...                    0                    0\n",
              "..         ...                  ...  ...                  ...                  ...\n",
              "91         405                    0  ...                    1                    0\n",
              "92         355                    0  ...                    0                    1\n",
              "93         306                    0  ...                    0                    0\n",
              "94         271                    0  ...                    0                    0\n",
              "95         306                    0  ...                    0                    0\n",
              "\n",
              "[96 rows x 13 columns]"
            ]
          },
          "metadata": {},
          "execution_count": 105
        }
      ]
    },
    {
      "cell_type": "code",
      "metadata": {
        "colab": {
          "base_uri": "https://localhost:8080/"
        },
        "id": "Vkj3SALMHZOL",
        "outputId": "2658512f-4d68-45a1-c6c6-fc11d2d9b371"
      },
      "source": [
        "df1.shape"
      ],
      "execution_count": 106,
      "outputs": [
        {
          "output_type": "execute_result",
          "data": {
            "text/plain": [
              "(96, 13)"
            ]
          },
          "metadata": {},
          "execution_count": 106
        }
      ]
    },
    {
      "cell_type": "code",
      "metadata": {
        "id": "_KR9BNOnHiAb"
      },
      "source": [
        "t= np.arange(1,97)"
      ],
      "execution_count": 107,
      "outputs": []
    },
    {
      "cell_type": "code",
      "metadata": {
        "id": "dQigxgISHxTR"
      },
      "source": [
        "df1['t'] = t"
      ],
      "execution_count": 108,
      "outputs": []
    },
    {
      "cell_type": "code",
      "metadata": {
        "id": "r1-ef5G4Iflc"
      },
      "source": [
        "df1['t_sq'] = df1['t']*df1['t']\n",
        "log_Passengers=np.log(df1['Passengers'])\n",
        "df1['log_Passengers']=log_Passengers"
      ],
      "execution_count": 109,
      "outputs": []
    },
    {
      "cell_type": "code",
      "metadata": {
        "colab": {
          "base_uri": "https://localhost:8080/",
          "height": 238
        },
        "id": "9T659BK5JTzE",
        "outputId": "0b10fa83-6b96-4593-8264-fcbcc972f880"
      },
      "source": [
        "df1.head()"
      ],
      "execution_count": 110,
      "outputs": [
        {
          "output_type": "execute_result",
          "data": {
            "text/html": [
              "<div>\n",
              "<style scoped>\n",
              "    .dataframe tbody tr th:only-of-type {\n",
              "        vertical-align: middle;\n",
              "    }\n",
              "\n",
              "    .dataframe tbody tr th {\n",
              "        vertical-align: top;\n",
              "    }\n",
              "\n",
              "    .dataframe thead th {\n",
              "        text-align: right;\n",
              "    }\n",
              "</style>\n",
              "<table border=\"1\" class=\"dataframe\">\n",
              "  <thead>\n",
              "    <tr style=\"text-align: right;\">\n",
              "      <th></th>\n",
              "      <th>Passengers</th>\n",
              "      <th>month_1 Month Month</th>\n",
              "      <th>month_10 Month Month</th>\n",
              "      <th>month_11 Month Month</th>\n",
              "      <th>month_12 Month Month</th>\n",
              "      <th>month_2 Month Month</th>\n",
              "      <th>month_3 Month Month</th>\n",
              "      <th>month_4 Month Month</th>\n",
              "      <th>month_5 Month Month</th>\n",
              "      <th>month_6 Month Month</th>\n",
              "      <th>month_7 Month Month</th>\n",
              "      <th>month_8 Month Month</th>\n",
              "      <th>month_9 Month Month</th>\n",
              "      <th>t</th>\n",
              "      <th>t_sq</th>\n",
              "      <th>log_Passengers</th>\n",
              "    </tr>\n",
              "  </thead>\n",
              "  <tbody>\n",
              "    <tr>\n",
              "      <th>0</th>\n",
              "      <td>112</td>\n",
              "      <td>1</td>\n",
              "      <td>0</td>\n",
              "      <td>0</td>\n",
              "      <td>0</td>\n",
              "      <td>0</td>\n",
              "      <td>0</td>\n",
              "      <td>0</td>\n",
              "      <td>0</td>\n",
              "      <td>0</td>\n",
              "      <td>0</td>\n",
              "      <td>0</td>\n",
              "      <td>0</td>\n",
              "      <td>1</td>\n",
              "      <td>1</td>\n",
              "      <td>4.718499</td>\n",
              "    </tr>\n",
              "    <tr>\n",
              "      <th>1</th>\n",
              "      <td>118</td>\n",
              "      <td>0</td>\n",
              "      <td>0</td>\n",
              "      <td>0</td>\n",
              "      <td>0</td>\n",
              "      <td>1</td>\n",
              "      <td>0</td>\n",
              "      <td>0</td>\n",
              "      <td>0</td>\n",
              "      <td>0</td>\n",
              "      <td>0</td>\n",
              "      <td>0</td>\n",
              "      <td>0</td>\n",
              "      <td>2</td>\n",
              "      <td>4</td>\n",
              "      <td>4.770685</td>\n",
              "    </tr>\n",
              "    <tr>\n",
              "      <th>2</th>\n",
              "      <td>132</td>\n",
              "      <td>0</td>\n",
              "      <td>0</td>\n",
              "      <td>0</td>\n",
              "      <td>0</td>\n",
              "      <td>0</td>\n",
              "      <td>1</td>\n",
              "      <td>0</td>\n",
              "      <td>0</td>\n",
              "      <td>0</td>\n",
              "      <td>0</td>\n",
              "      <td>0</td>\n",
              "      <td>0</td>\n",
              "      <td>3</td>\n",
              "      <td>9</td>\n",
              "      <td>4.882802</td>\n",
              "    </tr>\n",
              "    <tr>\n",
              "      <th>3</th>\n",
              "      <td>129</td>\n",
              "      <td>0</td>\n",
              "      <td>0</td>\n",
              "      <td>0</td>\n",
              "      <td>0</td>\n",
              "      <td>0</td>\n",
              "      <td>0</td>\n",
              "      <td>1</td>\n",
              "      <td>0</td>\n",
              "      <td>0</td>\n",
              "      <td>0</td>\n",
              "      <td>0</td>\n",
              "      <td>0</td>\n",
              "      <td>4</td>\n",
              "      <td>16</td>\n",
              "      <td>4.859812</td>\n",
              "    </tr>\n",
              "    <tr>\n",
              "      <th>4</th>\n",
              "      <td>121</td>\n",
              "      <td>0</td>\n",
              "      <td>0</td>\n",
              "      <td>0</td>\n",
              "      <td>0</td>\n",
              "      <td>0</td>\n",
              "      <td>0</td>\n",
              "      <td>0</td>\n",
              "      <td>1</td>\n",
              "      <td>0</td>\n",
              "      <td>0</td>\n",
              "      <td>0</td>\n",
              "      <td>0</td>\n",
              "      <td>5</td>\n",
              "      <td>25</td>\n",
              "      <td>4.795791</td>\n",
              "    </tr>\n",
              "  </tbody>\n",
              "</table>\n",
              "</div>"
            ],
            "text/plain": [
              "   Passengers  month_1 Month Month  ...  t_sq  log_Passengers\n",
              "0         112                    1  ...     1        4.718499\n",
              "1         118                    0  ...     4        4.770685\n",
              "2         132                    0  ...     9        4.882802\n",
              "3         129                    0  ...    16        4.859812\n",
              "4         121                    0  ...    25        4.795791\n",
              "\n",
              "[5 rows x 16 columns]"
            ]
          },
          "metadata": {},
          "execution_count": 110
        }
      ]
    },
    {
      "cell_type": "code",
      "metadata": {
        "id": "6jSPfGdgJuij"
      },
      "source": [
        "df1.columns=['Passengers','Month_1', 'Month_10',\n",
        "       'Month_11', 'Month_12', 'Month_2',\n",
        "       'Month_3', 'Month_4', 'Month_5',\n",
        "       'Month_6', 'Month_7', 'Month_8',\n",
        "       'Month_9', 't', 't_sq', 'log_Passengers']"
      ],
      "execution_count": 128,
      "outputs": []
    },
    {
      "cell_type": "code",
      "metadata": {
        "colab": {
          "base_uri": "https://localhost:8080/"
        },
        "id": "TUsz0teRKZpB",
        "outputId": "79a197fe-2305-4a93-93ed-5cec6c2f018c"
      },
      "source": [
        "df1.columns"
      ],
      "execution_count": 129,
      "outputs": [
        {
          "output_type": "execute_result",
          "data": {
            "text/plain": [
              "Index(['Passengers', 'Month_1', 'Month_10', 'Month_11', 'Month_12', 'Month_2',\n",
              "       'Month_3', 'Month_4', 'Month_5', 'Month_6', 'Month_7', 'Month_8',\n",
              "       'Month_9', 't', 't_sq', 'log_Passengers'],\n",
              "      dtype='object')"
            ]
          },
          "metadata": {},
          "execution_count": 129
        }
      ]
    },
    {
      "cell_type": "code",
      "metadata": {
        "id": "BdMykH_JJXaT"
      },
      "source": [
        "train1, test1 = np.split(df1, [int(.67 *len(df1))])"
      ],
      "execution_count": 130,
      "outputs": []
    },
    {
      "cell_type": "code",
      "metadata": {
        "colab": {
          "base_uri": "https://localhost:8080/"
        },
        "id": "_-GpnRRUJc-l",
        "outputId": "b9ab6426-5784-4222-b03d-f0200565071c"
      },
      "source": [
        "linear= smf.ols('Passengers ~ t',data=train1).fit()\n",
        "predlin=pd.Series(linear.predict(pd.DataFrame(test1['t'])))\n",
        "rmselin=np.sqrt((np.mean(np.array(test1['Passengers'])-np.array(predlin))**2))\n",
        "rmselin"
      ],
      "execution_count": 131,
      "outputs": [
        {
          "output_type": "execute_result",
          "data": {
            "text/plain": [
              "25.50398351648347"
            ]
          },
          "metadata": {},
          "execution_count": 131
        }
      ]
    },
    {
      "cell_type": "code",
      "metadata": {
        "colab": {
          "base_uri": "https://localhost:8080/"
        },
        "id": "841l91WoNZbj",
        "outputId": "9790bbfb-f87a-41a9-bde8-2e36b1d8db3b"
      },
      "source": [
        "addlinear= smf.ols('Passengers~ t+Month_1+Month_10+Month_11+Month_12+Month_2+Month_3+Month_4+Month_5+Month_6+Month_7+Month_8+Month_9',data=train1).fit()\n",
        "predaddlinear=pd.Series(addlinear.predict(pd.DataFrame(test1[['t','Month_1', 'Month_10',\n",
        "       'Month_11', 'Month_12', 'Month_2',\n",
        "       'Month_3', 'Month_4', 'Month_5',\n",
        "       'Month_6', 'Month_7', 'Month_8',\n",
        "       'Month_9']])))\n",
        "rmseaddlinear=np.sqrt(np.mean((np.array(test1['Passengers'])-np.array(predaddlinear))**2))\n",
        "rmseaddlinear"
      ],
      "execution_count": 140,
      "outputs": [
        {
          "output_type": "execute_result",
          "data": {
            "text/plain": [
              "34.26029387076413"
            ]
          },
          "metadata": {},
          "execution_count": 140
        }
      ]
    },
    {
      "cell_type": "code",
      "metadata": {
        "colab": {
          "base_uri": "https://localhost:8080/"
        },
        "id": "VbBEZb21JiYE",
        "outputId": "86f7e87c-477d-4217-f4fa-1f72425de928"
      },
      "source": [
        "quad=smf.ols('Passengers~t+t_sq',data=train1).fit()\n",
        "predquad=pd.Series(quad.predict(pd.DataFrame(test1[['t','t_sq']])))\n",
        "rmsequad=np.sqrt(np.mean((np.array(test1['Passengers'])-np.array(predquad))**2))\n",
        "rmsequad"
      ],
      "execution_count": 132,
      "outputs": [
        {
          "output_type": "execute_result",
          "data": {
            "text/plain": [
              "53.1895551441541"
            ]
          },
          "metadata": {},
          "execution_count": 132
        }
      ]
    },
    {
      "cell_type": "code",
      "metadata": {
        "colab": {
          "base_uri": "https://localhost:8080/"
        },
        "id": "D9lwm4LEJlh0",
        "outputId": "7c76a136-3012-43fe-b1be-4c7d2a6aa516"
      },
      "source": [
        "expo=smf.ols('Passengers~t',data=train1).fit()\n",
        "predexp=pd.Series(expo.predict(pd.DataFrame(test1['t'])))\n",
        "rmseexpo=np.sqrt(np.mean((np.array(test1['Passengers'])-np.array(np.exp(predexp)))**2))\n",
        "rmseexpo"
      ],
      "execution_count": 133,
      "outputs": [
        {
          "output_type": "execute_result",
          "data": {
            "text/plain": [
              "1.6030945933279498e+128"
            ]
          },
          "metadata": {},
          "execution_count": 133
        }
      ]
    },
    {
      "cell_type": "code",
      "metadata": {
        "colab": {
          "base_uri": "https://localhost:8080/"
        },
        "id": "PRekJNCbJofk",
        "outputId": "35525e3c-8171-4cd2-90e5-b4b63dea798c"
      },
      "source": [
        "additive= smf.ols('Passengers~ Month_1+Month_10+Month_11+Month_12+Month_2+Month_3+Month_4+Month_5+Month_6+Month_7+Month_8+Month_9',data=train1).fit()\n",
        "predadd=pd.Series(additive.predict(pd.DataFrame(test1[['Month_1', 'Month_10',\n",
        "       'Month_11', 'Month_12', 'Month_2',\n",
        "       'Month_3', 'Month_4', 'Month_5',\n",
        "       'Month_6', 'Month_7', 'Month_8',\n",
        "       'Month_9']])))\n",
        "rmseadd=np.sqrt(np.mean((np.array(test1['Passengers'])-np.array(predadd))**2))\n",
        "rmseadd"
      ],
      "execution_count": 134,
      "outputs": [
        {
          "output_type": "execute_result",
          "data": {
            "text/plain": [
              "123.94935401651412"
            ]
          },
          "metadata": {},
          "execution_count": 134
        }
      ]
    },
    {
      "cell_type": "code",
      "metadata": {
        "colab": {
          "base_uri": "https://localhost:8080/"
        },
        "id": "ONi2pI7YKrYR",
        "outputId": "f0ed200c-80f5-4344-819f-63dd3f574c9c"
      },
      "source": [
        "addquad=smf.ols('Passengers~t+t_sq+Month_1+Month_10+Month_11+Month_12+Month_2+Month_3+Month_4+Month_5+Month_6+Month_7+Month_8+Month_9',data=train1).fit()\n",
        "predaddquad=pd.Series(addquad.predict(pd.DataFrame(test1[['t','t_sq','Month_1', 'Month_10',\n",
        "       'Month_11', 'Month_12', 'Month_2',\n",
        "       'Month_3', 'Month_4', 'Month_5',\n",
        "       'Month_6', 'Month_7', 'Month_8',\n",
        "       'Month_9']])))\n",
        "rmseaddquad=np.sqrt(np.mean((np.array(test1['Passengers'])-np.array(predaddquad))**2))\n",
        "rmseaddquad"
      ],
      "execution_count": 135,
      "outputs": [
        {
          "output_type": "execute_result",
          "data": {
            "text/plain": [
              "34.5035040385881"
            ]
          },
          "metadata": {},
          "execution_count": 135
        }
      ]
    },
    {
      "cell_type": "code",
      "metadata": {
        "colab": {
          "base_uri": "https://localhost:8080/"
        },
        "id": "d2TCdODeMTCd",
        "outputId": "c97f115d-9efb-4d11-b634-986a882f484f"
      },
      "source": [
        "mulsea=smf.ols('log_Passengers~Month_1+Month_10+Month_11+Month_12+Month_2+Month_3+Month_4+Month_5+Month_6+Month_7+Month_8+Month_9',data=train1).fit()\n",
        "predmul= pd.Series(mulsea.predict(pd.DataFrame(test1[['Month_1', 'Month_10',\n",
        "       'Month_11', 'Month_12', 'Month_2',\n",
        "       'Month_3', 'Month_4', 'Month_5',\n",
        "       'Month_6', 'Month_7', 'Month_8',\n",
        "       'Month_9']])))\n",
        "rmsemul= np.sqrt(np.mean((np.array(test1['Passengers'])-np.array(np.exp(predmul)))**2))\n",
        "rmsemul"
      ],
      "execution_count": 136,
      "outputs": [
        {
          "output_type": "execute_result",
          "data": {
            "text/plain": [
              "127.83693479585921"
            ]
          },
          "metadata": {},
          "execution_count": 136
        }
      ]
    },
    {
      "cell_type": "code",
      "metadata": {
        "colab": {
          "base_uri": "https://localhost:8080/"
        },
        "id": "1Tm03nVcMgw1",
        "outputId": "311741a5-b7d3-4e59-f9a1-cabbe8d8cb4e"
      },
      "source": [
        "mullin= smf.ols('log_Passengers~t+Month_1+Month_10+Month_11+Month_12+Month_2+Month_3+Month_4+Month_5+Month_6+Month_7+Month_8+Month_9',data=train1).fit()\n",
        "predmullin= pd.Series(mullin.predict(pd.DataFrame(test1[['t','Month_1', 'Month_10',\n",
        "       'Month_11', 'Month_12', 'Month_2',\n",
        "       'Month_3', 'Month_4', 'Month_5',\n",
        "       'Month_6', 'Month_7', 'Month_8',\n",
        "       'Month_9']])))\n",
        "rmsemulin=np.sqrt(np.mean((np.array(test1['Passengers'])-np.array(np.exp(predmullin)))**2))\n",
        "rmsemulin"
      ],
      "execution_count": 137,
      "outputs": [
        {
          "output_type": "execute_result",
          "data": {
            "text/plain": [
              "12.759135120294594"
            ]
          },
          "metadata": {},
          "execution_count": 137
        }
      ]
    },
    {
      "cell_type": "code",
      "metadata": {
        "colab": {
          "base_uri": "https://localhost:8080/"
        },
        "id": "p5GRZW-zM4aN",
        "outputId": "43a46356-f0cc-4f4d-8426-891c48e849b1"
      },
      "source": [
        "mul_quad= smf.ols('log_Passengers~t+t_sq+Month_1+Month_10+Month_11+Month_12+Month_2+Month_3+Month_4+Month_5+Month_6+Month_7+Month_8+Month_9',data=train1).fit()\n",
        "pred_mul_quad= pd.Series(mul_quad.predict(test1[['t','t_sq','Month_1', 'Month_10',\n",
        "       'Month_11', 'Month_12', 'Month_2',\n",
        "       'Month_3', 'Month_4', 'Month_5',\n",
        "       'Month_6', 'Month_7', 'Month_8',\n",
        "       'Month_9']]))\n",
        "rmse_mul_quad=np.sqrt(np.mean((np.array(test1['Passengers'])-np.array(np.exp(pred_mul_quad)))**2))\n",
        "rmse_mul_quad"
      ],
      "execution_count": 138,
      "outputs": [
        {
          "output_type": "execute_result",
          "data": {
            "text/plain": [
              "28.25957879077209"
            ]
          },
          "metadata": {},
          "execution_count": 138
        }
      ]
    },
    {
      "cell_type": "markdown",
      "metadata": {
        "id": "7JwAku01NHmb"
      },
      "source": [
        "## CONCLUSION"
      ]
    },
    {
      "cell_type": "code",
      "metadata": {
        "id": "3Vx5MrAhNChl"
      },
      "source": [
        "output = {'Model':pd.Series(['rmse_mul_quad','rmseadd','rmseaddlinear','rmseaddquad','rmseexpo','rmselin','rmsemul','rmsemulin','rmsequad']),\n",
        "          'Values':pd.Series([rmse_mul_quad,rmseadd,rmseaddlinear,rmseaddquad,rmseexpo,rmselin,rmsemul,rmsemulin,rmsequad])}"
      ],
      "execution_count": 141,
      "outputs": []
    },
    {
      "cell_type": "code",
      "metadata": {
        "id": "M7qssceYNQ5E"
      },
      "source": [
        "rmse=pd.DataFrame(output)"
      ],
      "execution_count": 142,
      "outputs": []
    },
    {
      "cell_type": "code",
      "metadata": {
        "colab": {
          "base_uri": "https://localhost:8080/",
          "height": 328
        },
        "id": "TEdjf0AlOPWe",
        "outputId": "ffcd0ee2-3956-4ad1-9e1c-ab888b6956c7"
      },
      "source": [
        "rmse"
      ],
      "execution_count": 143,
      "outputs": [
        {
          "output_type": "execute_result",
          "data": {
            "text/html": [
              "<div>\n",
              "<style scoped>\n",
              "    .dataframe tbody tr th:only-of-type {\n",
              "        vertical-align: middle;\n",
              "    }\n",
              "\n",
              "    .dataframe tbody tr th {\n",
              "        vertical-align: top;\n",
              "    }\n",
              "\n",
              "    .dataframe thead th {\n",
              "        text-align: right;\n",
              "    }\n",
              "</style>\n",
              "<table border=\"1\" class=\"dataframe\">\n",
              "  <thead>\n",
              "    <tr style=\"text-align: right;\">\n",
              "      <th></th>\n",
              "      <th>Model</th>\n",
              "      <th>Values</th>\n",
              "    </tr>\n",
              "  </thead>\n",
              "  <tbody>\n",
              "    <tr>\n",
              "      <th>0</th>\n",
              "      <td>rmse_mul_quad</td>\n",
              "      <td>2.825958e+01</td>\n",
              "    </tr>\n",
              "    <tr>\n",
              "      <th>1</th>\n",
              "      <td>rmseadd</td>\n",
              "      <td>1.239494e+02</td>\n",
              "    </tr>\n",
              "    <tr>\n",
              "      <th>2</th>\n",
              "      <td>rmseaddlinear</td>\n",
              "      <td>3.426029e+01</td>\n",
              "    </tr>\n",
              "    <tr>\n",
              "      <th>3</th>\n",
              "      <td>rmseaddquad</td>\n",
              "      <td>3.450350e+01</td>\n",
              "    </tr>\n",
              "    <tr>\n",
              "      <th>4</th>\n",
              "      <td>rmseexpo</td>\n",
              "      <td>1.603095e+128</td>\n",
              "    </tr>\n",
              "    <tr>\n",
              "      <th>5</th>\n",
              "      <td>rmselin</td>\n",
              "      <td>2.550398e+01</td>\n",
              "    </tr>\n",
              "    <tr>\n",
              "      <th>6</th>\n",
              "      <td>rmsemul</td>\n",
              "      <td>1.278369e+02</td>\n",
              "    </tr>\n",
              "    <tr>\n",
              "      <th>7</th>\n",
              "      <td>rmsemulin</td>\n",
              "      <td>1.275914e+01</td>\n",
              "    </tr>\n",
              "    <tr>\n",
              "      <th>8</th>\n",
              "      <td>rmsequad</td>\n",
              "      <td>5.318956e+01</td>\n",
              "    </tr>\n",
              "  </tbody>\n",
              "</table>\n",
              "</div>"
            ],
            "text/plain": [
              "           Model         Values\n",
              "0  rmse_mul_quad   2.825958e+01\n",
              "1        rmseadd   1.239494e+02\n",
              "2  rmseaddlinear   3.426029e+01\n",
              "3    rmseaddquad   3.450350e+01\n",
              "4       rmseexpo  1.603095e+128\n",
              "5        rmselin   2.550398e+01\n",
              "6        rmsemul   1.278369e+02\n",
              "7      rmsemulin   1.275914e+01\n",
              "8       rmsequad   5.318956e+01"
            ]
          },
          "metadata": {},
          "execution_count": 143
        }
      ]
    },
    {
      "cell_type": "code",
      "metadata": {
        "colab": {
          "base_uri": "https://localhost:8080/",
          "height": 80
        },
        "id": "boM168vTOSF9",
        "outputId": "4a1bb4f4-fbbc-46a9-aa94-0fe830a9bec2"
      },
      "source": [
        "rmse[rmse.Values==rmse.min()[1]]"
      ],
      "execution_count": 147,
      "outputs": [
        {
          "output_type": "execute_result",
          "data": {
            "text/html": [
              "<div>\n",
              "<style scoped>\n",
              "    .dataframe tbody tr th:only-of-type {\n",
              "        vertical-align: middle;\n",
              "    }\n",
              "\n",
              "    .dataframe tbody tr th {\n",
              "        vertical-align: top;\n",
              "    }\n",
              "\n",
              "    .dataframe thead th {\n",
              "        text-align: right;\n",
              "    }\n",
              "</style>\n",
              "<table border=\"1\" class=\"dataframe\">\n",
              "  <thead>\n",
              "    <tr style=\"text-align: right;\">\n",
              "      <th></th>\n",
              "      <th>Model</th>\n",
              "      <th>Values</th>\n",
              "    </tr>\n",
              "  </thead>\n",
              "  <tbody>\n",
              "    <tr>\n",
              "      <th>7</th>\n",
              "      <td>rmsemulin</td>\n",
              "      <td>12.759135</td>\n",
              "    </tr>\n",
              "  </tbody>\n",
              "</table>\n",
              "</div>"
            ],
            "text/plain": [
              "       Model     Values\n",
              "7  rmsemulin  12.759135"
            ]
          },
          "metadata": {},
          "execution_count": 147
        }
      ]
    },
    {
      "cell_type": "markdown",
      "metadata": {
        "id": "1g3fp1J2Om7z"
      },
      "source": [
        "## Multiplicative seasonality with linear trend has the best RMSE value"
      ]
    }
  ]
}